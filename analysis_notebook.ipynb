{
 "cells": [
  {
   "cell_type": "markdown",
   "metadata": {},
   "source": [
    "### Ice Sales Analysis"
   ]
  },
  {
   "cell_type": "code",
   "execution_count": 9,
   "metadata": {},
   "outputs": [],
   "source": [
    "import pandas as pd\n",
    "import numpy as np\n",
    "import matplotlib.pyplot as plt\n",
    "import seaborn as sns\n",
    "import plotly.express as px"
   ]
  },
  {
   "cell_type": "code",
   "execution_count": 10,
   "metadata": {},
   "outputs": [
    {
     "name": "stdout",
     "output_type": "stream",
     "text": [
      "                       Name Platform  Year_of_Release         Genre  NA_sales  \\\n",
      "0                Wii Sports      Wii           2006.0        Sports     41.36   \n",
      "1         Super Mario Bros.      NES           1985.0      Platform     29.08   \n",
      "2            Mario Kart Wii      Wii           2008.0        Racing     15.68   \n",
      "3         Wii Sports Resort      Wii           2009.0        Sports     15.61   \n",
      "4  Pokemon Red/Pokemon Blue       GB           1996.0  Role-Playing     11.27   \n",
      "\n",
      "   EU_sales  JP_sales  Other_sales  Critic_Score User_Score Rating  \n",
      "0     28.96      3.77         8.45          76.0          8      E  \n",
      "1      3.58      6.81         0.77           NaN        NaN    NaN  \n",
      "2     12.76      3.79         3.29          82.0        8.3      E  \n",
      "3     10.93      3.28         2.95          80.0          8      E  \n",
      "4      8.89     10.22         1.00           NaN        NaN    NaN  \n"
     ]
    }
   ],
   "source": [
    "# Import the DataFrame\n",
    "\n",
    "url = 'https://raw.githubusercontent.com/DHE42/ice-sales-analysis/refs/heads/main/games.csv'\n",
    "games_df = pd.read_csv(url)\n",
    "\n",
    "# Print Head\n",
    "\n",
    "print(games_df.head())\n",
    "\n"
   ]
  },
  {
   "cell_type": "markdown",
   "metadata": {},
   "source": [
    "The Games DataFrame has 11 columns. These go over \n",
    "\n",
    "1) Name\n",
    "2) Gaming Platform\n",
    "3) Release Year\n",
    "4) Genre\n",
    "5) North America Sales\n",
    "6) Europe Sales\n",
    "7) Japan Sales\n",
    "8) Other Sales\n",
    "9) Critic Score\n",
    "10) User Score\n",
    "and\n",
    "11) Rating.\n",
    "\n",
    "Before performing any operations, let's see what the data type for each column is."
   ]
  },
  {
   "cell_type": "code",
   "execution_count": 11,
   "metadata": {},
   "outputs": [
    {
     "name": "stdout",
     "output_type": "stream",
     "text": [
      "Data Types of Each Column\n",
      "\n",
      "Name                object\n",
      "Platform            object\n",
      "Year_of_Release    float64\n",
      "Genre               object\n",
      "NA_sales           float64\n",
      "EU_sales           float64\n",
      "JP_sales           float64\n",
      "Other_sales        float64\n",
      "Critic_Score       float64\n",
      "User_Score          object\n",
      "Rating              object\n",
      "dtype: object\n",
      "\n"
     ]
    }
   ],
   "source": [
    "print(\"Data Types of Each Column\")\n",
    "print()\n",
    "print(games_df.dtypes)\n",
    "print()"
   ]
  },
  {
   "cell_type": "markdown",
   "metadata": {
    "vscode": {
     "languageId": "markdown"
    }
   },
   "source": [
    "Name, Platform, Genre, User_Score, and Rating are all stored as an object. User_Score and Rating should all be stored as string, and all values should be lower case, as well as removing leading and trailing spaces. Rating values are all stored as an object. User_Score and Rating should all be stored as string, and all values should be lower case, as well as removing leading and trailing spaces. Year_of_Release should also be stored as int64 since there's no need for a decimal in a year."
   ]
  },
  {
   "cell_type": "code",
   "execution_count": 13,
   "metadata": {
    "vscode": {
     "languageId": "ruby"
    }
   },
   "outputs": [],
   "source": [
    "\n",
    "# These columns are currently stored as object dtype, which is a generic type in pandas.\n",
    "# Converting them to string dtype ensures consistency and allows for string-specific operations.\n",
    "games_df['Name'] = games_df['Name'].astype(str)\n",
    "games_df['Platform'] = games_df['Platform'].astype(str)\n",
    "games_df['Genre'] = games_df['Genre'].astype(str)\n",
    "games_df['Rating'] = games_df['Genre'].astype(str)\n",
    "\n",
    "# Step 2: Convert User_Score and Rating to float64\n",
    "# User_Score and Rating are currently stored as object dtype, which is not suitable for numerical operations.\n",
    "# We use pd.to_numeric to convert these columns to float64. The 'errors=\"coerce\"' argument ensures that\n",
    "# any non-numeric values are replaced with NaN, making the data easier to handle for numerical analysis.\n",
    "games_df['User_Score'] = pd.to_numeric(games_df['User_Score'], errors='coerce')\n",
    "\n",
    "\n",
    "# Step 3: Convert Year_of_Release to int64\n",
    "# Year_of_Release is currently stored as float64, which is not suitable for representing years.\n",
    "# We use pd.to_numeric to convert this column to int64. The 'errors=\"coerce\"' argument ensures that\n",
    "# any non-numeric values are replaced with NaN, and then we drop these NaN values before conversion.\n",
    "games_df['Year_of_Release'] = pd.to_numeric(games_df['Year_of_Release'], errors='coerce').dropna().astype('int64')\n",
    "\n"
   ]
  },
  {
   "cell_type": "code",
   "execution_count": 14,
   "metadata": {
    "vscode": {
     "languageId": "ruby"
    }
   },
   "outputs": [
    {
     "name": "stdout",
     "output_type": "stream",
     "text": [
      "Data types after conversion:\n",
      "Name                object\n",
      "Platform            object\n",
      "Year_of_Release    float64\n",
      "Genre               object\n",
      "NA_sales           float64\n",
      "EU_sales           float64\n",
      "JP_sales           float64\n",
      "Other_sales        float64\n",
      "Critic_Score       float64\n",
      "User_Score         float64\n",
      "Rating              object\n",
      "dtype: object\n",
      "\n",
      "DF Head After Cleaning:\n",
      "                       Name Platform  Year_of_Release         Genre  NA_sales  \\\n",
      "0                wii_sports      wii           2006.0        sports     41.36   \n",
      "1         super_mario_bros.      nes           1985.0      platform     29.08   \n",
      "2            mario_kart_wii      wii           2008.0        racing     15.68   \n",
      "3         wii_sports_resort      wii           2009.0        sports     15.61   \n",
      "4  pokemon_red/pokemon_blue       gb           1996.0  role-playing     11.27   \n",
      "\n",
      "   EU_sales  JP_sales  Other_sales  Critic_Score  User_Score        Rating  \n",
      "0     28.96      3.77         8.45          76.0         8.0        sports  \n",
      "1      3.58      6.81         0.77           NaN         NaN      platform  \n",
      "2     12.76      3.79         3.29          82.0         8.3        racing  \n",
      "3     10.93      3.28         2.95          80.0         8.0        sports  \n",
      "4      8.89     10.22         1.00           NaN         NaN  role-playing  \n",
      "\n"
     ]
    }
   ],
   "source": [
    "# Step 4: Clean string dtype columns\n",
    "# Convert all string values to lower case, strip leading/trailing spaces, and replace spaces with underscores\n",
    "string_columns = games_df.select_dtypes(include=['object']).columns\n",
    "for col in string_columns:\n",
    "    games_df[col] = games_df[col].str.lower().str.strip().str.replace(' ', '_')\n",
    "\n",
    "print(\"Data types after conversion:\")\n",
    "print(games_df.dtypes)\n",
    "print()\n",
    "print(\"DF Head After Cleaning:\")\n",
    "print(games_df.head())\n",
    "print()"
   ]
  },
  {
   "cell_type": "code",
   "execution_count": null,
   "metadata": {
    "vscode": {
     "languageId": "ruby"
    }
   },
   "outputs": [],
   "source": []
  }
 ],
 "metadata": {
  "kernelspec": {
   "display_name": "base",
   "language": "python",
   "name": "python3"
  },
  "language_info": {
   "codemirror_mode": {
    "name": "ipython",
    "version": 3
   },
   "file_extension": ".py",
   "mimetype": "text/x-python",
   "name": "python",
   "nbconvert_exporter": "python",
   "pygments_lexer": "ipython3",
   "version": "3.12.2"
  }
 },
 "nbformat": 4,
 "nbformat_minor": 2
}
