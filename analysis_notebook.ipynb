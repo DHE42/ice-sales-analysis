{
 "cells": [
  {
   "cell_type": "markdown",
   "metadata": {},
   "source": [
    "### Ice Sales Analysis"
   ]
  },
  {
   "cell_type": "code",
   "execution_count": 26,
   "metadata": {},
   "outputs": [],
   "source": [
    "import pandas as pd\n",
    "import numpy as np\n",
    "import matplotlib.pyplot as plt\n",
    "import seaborn as sns\n",
    "import plotly.express as px"
   ]
  },
  {
   "cell_type": "code",
   "execution_count": 27,
   "metadata": {},
   "outputs": [
    {
     "name": "stdout",
     "output_type": "stream",
     "text": [
      "                       Name Platform  Year_of_Release         Genre  NA_sales  \\\n",
      "0                Wii Sports      Wii           2006.0        Sports     41.36   \n",
      "1         Super Mario Bros.      NES           1985.0      Platform     29.08   \n",
      "2            Mario Kart Wii      Wii           2008.0        Racing     15.68   \n",
      "3         Wii Sports Resort      Wii           2009.0        Sports     15.61   \n",
      "4  Pokemon Red/Pokemon Blue       GB           1996.0  Role-Playing     11.27   \n",
      "\n",
      "   EU_sales  JP_sales  Other_sales  Critic_Score User_Score Rating  \n",
      "0     28.96      3.77         8.45          76.0          8      E  \n",
      "1      3.58      6.81         0.77           NaN        NaN    NaN  \n",
      "2     12.76      3.79         3.29          82.0        8.3      E  \n",
      "3     10.93      3.28         2.95          80.0          8      E  \n",
      "4      8.89     10.22         1.00           NaN        NaN    NaN  \n"
     ]
    }
   ],
   "source": [
    "# Import the DataFrame\n",
    "\n",
    "url = 'https://raw.githubusercontent.com/DHE42/ice-sales-analysis/refs/heads/main/games.csv'\n",
    "games_df = pd.read_csv(url)\n",
    "\n",
    "# Print Head\n",
    "\n",
    "print(games_df.head())\n",
    "\n"
   ]
  },
  {
   "cell_type": "markdown",
   "metadata": {},
   "source": [
    "The Games DataFrame has 11 columns. These go over \n",
    "\n",
    "1) Name\n",
    "2) Gaming Platform\n",
    "3) Release Year\n",
    "4) Genre\n",
    "5) North America Sales\n",
    "6) Europe Sales\n",
    "7) Japan Sales\n",
    "8) Other Sales\n",
    "9) Critic Score\n",
    "10) User Score\n",
    "and\n",
    "11) Rating.\n",
    "\n",
    "Before performing any operations, let's see what the data type for each column is."
   ]
  },
  {
   "cell_type": "code",
   "execution_count": 28,
   "metadata": {},
   "outputs": [
    {
     "name": "stdout",
     "output_type": "stream",
     "text": [
      "Data Types of Each Column\n",
      "\n",
      "Name                object\n",
      "Platform            object\n",
      "Year_of_Release    float64\n",
      "Genre               object\n",
      "NA_sales           float64\n",
      "EU_sales           float64\n",
      "JP_sales           float64\n",
      "Other_sales        float64\n",
      "Critic_Score       float64\n",
      "User_Score          object\n",
      "Rating              object\n",
      "dtype: object\n",
      "\n"
     ]
    }
   ],
   "source": [
    "print(\"Data Types of Each Column\")\n",
    "print()\n",
    "print(games_df.dtypes)\n",
    "print()"
   ]
  },
  {
   "cell_type": "markdown",
   "metadata": {},
   "source": [
    "## Cleaning and Restoring Data"
   ]
  },
  {
   "cell_type": "markdown",
   "metadata": {
    "vscode": {
     "languageId": "markdown"
    }
   },
   "source": [
    "Name, Platform, Genre, User_Score, and Rating are all stored as an object. User_Score and Rating should all be stored as string, and all values should be lower case, as well as removing leading and trailing spaces. Rating values are all stored as an object. User_Score and Rating should all be stored as string, and all values should be lower case, as well as removing leading and trailing spaces. Year_of_Release should also be stored as int64 since there's no need for a decimal in a year."
   ]
  },
  {
   "cell_type": "code",
   "execution_count": 29,
   "metadata": {},
   "outputs": [
    {
     "name": "stdout",
     "output_type": "stream",
     "text": [
      "Data types after conversion:\n",
      "name               string[python]\n",
      "platform           string[python]\n",
      "year_of_release             int64\n",
      "genre              string[python]\n",
      "na_sales                  float64\n",
      "eu_sales                  float64\n",
      "jp_sales                  float64\n",
      "other_sales               float64\n",
      "critic_score                int64\n",
      "user_score                  int64\n",
      "rating             string[python]\n",
      "dtype: object\n",
      "\n",
      "DF Head After Cleaning:\n",
      "                       name platform  year_of_release        genre  na_sales  \\\n",
      "0                wii_sports      wii             2006       sports     41.36   \n",
      "1          super_mario_bros      nes             1985     platform     29.08   \n",
      "2            mario_kart_wii      wii             2008       racing     15.68   \n",
      "3         wii_sports_resort      wii             2009       sports     15.61   \n",
      "4  pokemon_red/pokemon_blue       gb             1996  roleplaying     11.27   \n",
      "\n",
      "   eu_sales  jp_sales  other_sales  critic_score  user_score   rating  \n",
      "0     28.96      3.77         8.45            76           8        e  \n",
      "1      3.58      6.81         0.77            71           7  unknown  \n",
      "2     12.76      3.79         3.29            82           8        e  \n",
      "3     10.93      3.28         2.95            80           8        e  \n",
      "4      8.89     10.22         1.00            71           7  unknown  \n",
      "\n",
      "Unique Values in Each Column:\n",
      "<StringArray>\n",
      "[     'sports',    'platform',      'racing', 'roleplaying',      'puzzle',\n",
      "        'misc',     'shooter',  'simulation',      'action',    'fighting',\n",
      "   'adventure',    'strategy',     'unknown']\n",
      "Length: 13, dtype: string\n",
      "<StringArray>\n",
      "[ 'wii',  'nes',   'gb',   'ds', 'x360',  'ps3',  'ps2', 'snes',  'gba',\n",
      "  'ps4',  '3ds',  'n64',   'ps',   'xb',   'pc', '2600',  'psp', 'xone',\n",
      " 'wiiu',   'gc',  'gen',   'dc',  'psv',  'sat',  'scd',   'ws',   'ng',\n",
      " 'tg16',  '3do',   'gg', 'pcfx']\n",
      "Length: 31, dtype: string\n",
      "<StringArray>\n",
      "['e', 'unknown', 'm', 't', 'e10+', 'ka', 'ao', 'ec', 'rp']\n",
      "Length: 9, dtype: string\n",
      "\n"
     ]
    }
   ],
   "source": [
    "\n",
    "# Step 1: Cleaning Cateogorical Columns\n",
    "\n",
    "# Convert column names to lower case, which ensures consistency and makes it easier to reference columns in the DataFrame.\n",
    "games_df.columns = games_df.columns.str.lower()\n",
    "# Convert all string values to lower case, strip leading/trailing spaces, and replace spaces with underscores\n",
    "string_columns = games_df.select_dtypes(include=['object']).columns\n",
    "for col in string_columns:\n",
    "    games_df[col] = games_df[col].str.lower().str.strip().str.replace(' ', '_')\n",
    "# Remove leading and trailing periods, question marks, and exclamation marks\n",
    "for col in string_columns:\n",
    "    games_df[col] = games_df[col].str.strip('.!?-')\n",
    "for col in string_columns:\n",
    "    games_df[col] = games_df[col].str.replace('-', '')\n",
    "\n",
    "# Step 2: Handle missing categorical values\n",
    "\n",
    "# Handling Categorical Columns\n",
    "games_df['platform'] = games_df['platform'].fillna('unknown')\n",
    "games_df['genre'] = games_df['genre'].fillna('unknown')\n",
    "games_df['rating'] = games_df['rating'].fillna('unknown')\n",
    "games_df['name'] = games_df['name'].fillna('unknown')\n",
    "\n",
    "# Cleaning and Restoring Numerical Columns\n",
    "# Replace NaN values in the year_of_release column with the mean of the column\n",
    "mean_year = games_df['year_of_release'].mean(skipna=True)\n",
    "games_df['year_of_release'] = games_df['year_of_release'].fillna(mean_year)\n",
    "# Replace NaN values in the na_sales column with the median of the column\n",
    "median_na_sales = games_df['na_sales'].median(skipna=True)\n",
    "games_df['na_sales'] = games_df['na_sales'].fillna(median_na_sales)\n",
    "# Replace NaN values in eu_sales column with the median of the column\n",
    "median_eu_sales = games_df['eu_sales'].median(skipna=True)\n",
    "games_df['eu_sales'] = games_df['eu_sales'].fillna(median_eu_sales)\n",
    "# Replace NaN values in jp_sales column with the median of the column \n",
    "median_jp_sales = games_df['jp_sales'].median(skipna=True)\n",
    "games_df['jp_sales'] = games_df['jp_sales'].fillna(median_jp_sales)\n",
    "# Replace NaN values in other_sales column with the median of the column\n",
    "median_other_sales = games_df['other_sales'].median(skipna=True)\n",
    "games_df['other_sales'] = games_df['other_sales'].fillna(median_other_sales)\n",
    "# Convert user_score to float to handle NaN values for later conversion to int64, as int64 has trouble handling NaN values\n",
    "games_df['user_score'] = pd.to_numeric(games_df['user_score'], errors='coerce')\n",
    "# Replace NaN values in the user_score column with the mean of the column\n",
    "mean_user_score = games_df['user_score'].mean(skipna=True)\n",
    "games_df['user_score'] = games_df['user_score'].fillna(mean_user_score)\n",
    "# Replace NaN values in the critic_score column with median of the column\n",
    "median_critic_score = games_df['critic_score'].median(skipna=True)\n",
    "games_df['critic_score'] = pd.to_numeric(games_df['critic_score'], errors='coerce')\n",
    "games_df['critic_score'] = games_df['critic_score'].fillna(median_critic_score)\n",
    "\n",
    "# Step 3: Data Type Conversion\n",
    "\n",
    "# Convert categorical columns to string.\n",
    "# These columns are currently stored as object dtype, which is a generic type in pandas.\n",
    "# Converting them to string dtype ensures consistency and allows for string-specific operations.\n",
    "games_df['name'] = games_df['name'].astype('string')\n",
    "games_df['platform'] = games_df['platform'].astype('string')\n",
    "games_df['genre'] = games_df['genre'].astype('string')\n",
    "games_df['rating'] = games_df['rating'].astype('string')\n",
    "\n",
    "\n",
    "# Step 4: Convert applicable numerical columns to int64, which is appropriate for mathematical operations and analysis.\n",
    "# This is the most space efficient manner, since these columns do not require decimal precision.\n",
    "# Convert user_score to int64\n",
    "games_df['user_score'] = games_df['user_score'].astype('int64')\n",
    "# Convert critic_score to int64\n",
    "games_df['critic_score'] = games_df['critic_score'].astype('int64')\n",
    "# Convert year_of_release to int64\n",
    "games_df['year_of_release'] = games_df['year_of_release'].astype('int64')\n",
    "\n",
    "print(\"Data types after conversion:\")\n",
    "print(games_df.dtypes)\n",
    "print()\n",
    "print(\"DF Head After Cleaning:\")\n",
    "print(games_df.head())\n",
    "print()\n",
    "print(\"Unique Values in Each Column:\")\n",
    "print(games_df['genre'].unique())\n",
    "print(games_df['platform'].unique())\n",
    "print(games_df['rating'].unique())\n",
    "print()"
   ]
  },
  {
   "cell_type": "markdown",
   "metadata": {},
   "source": [
    "At this point, it is necessary to make some of the column values more descriptive so that they are accessible to those without prior knowledge of industry jargon."
   ]
  },
  {
   "cell_type": "code",
   "execution_count": 30,
   "metadata": {
    "vscode": {
     "languageId": "ruby"
    }
   },
   "outputs": [
    {
     "name": "stdout",
     "output_type": "stream",
     "text": [
      "<StringArray>\n",
      "[                       'nintendo_wii',       'nintendo_entertainment_system',\n",
      "                            'game_boy',                         'nintendo_ds',\n",
      "                            'xbox_360',                       'playstation_3',\n",
      "                       'playstation_2', 'super_nintendo_entertainment_system',\n",
      "                    'game_boy_advance',                       'playstation_4',\n",
      "                        'nintendo_3ds',                         'nintendo_64',\n",
      "                         'playstation',                                'xbox',\n",
      "                                  'pc',                          'atari_2600',\n",
      "                'playstation_portable',                            'xbox_one',\n",
      "                      'nintendo_wii_u',                                  'gc',\n",
      "                        'sega_genesis',                      'sega_dreamcast',\n",
      "                    'playstation_vita',                         'sega_saturn',\n",
      "                             'sega_cd',                  'bandai -wonderswan',\n",
      "                         'snk_neo_geo',                     'turbo_graphx_16',\n",
      "         '3do_interactive_multiplayer',                      'sega_game_gear',\n",
      "                               'pc_fx']\n",
      "Length: 31, dtype: string\n"
     ]
    }
   ],
   "source": [
    "# Replace industry jargon with descriptive values in platform column\n",
    "games_df['platform'] = games_df['platform'].replace('wii', 'nintendo_wii')\n",
    "games_df['platform'] = games_df['platform'].replace('nes', 'nintendo_entertainment_system')\n",
    "games_df['platform'] = games_df['platform'].replace('Nintendo Entertainment System', 'nintendo_entertainment_system')\n",
    "games_df['platform'] = games_df['platform'].replace('snes', 'super_nintendo_entertainment_system')\n",
    "games_df['platform'] = games_df['platform'].replace('gb', 'game_boy')\n",
    "games_df['platform'] = games_df['platform'].replace('gba', 'game_boy_advance')\n",
    "games_df['platform'] = games_df['platform'].replace('ds', 'nintendo_ds')\n",
    "games_df['platform'] = games_df['platform'].replace('3ds', 'nintendo_3ds')\n",
    "games_df['platform'] = games_df['platform'].replace('xb', 'xbox')\n",
    "games_df['platform'] = games_df['platform'].replace('xone', 'xbox_one')\n",
    "games_df['platform'] = games_df['platform'].replace('x360', 'xbox_360')\n",
    "games_df['platform'] = games_df['platform'].replace('ps', 'playstation')\n",
    "games_df['platform'] = games_df['platform'].replace('ps2', 'playstation_2')\n",
    "games_df['platform'] = games_df['platform'].replace('ps3', 'playstation_3')\n",
    "games_df['platform'] = games_df['platform'].replace('ps4', 'playstation_4')\n",
    "games_df['platform'] = games_df['platform'].replace('psp', 'playstation_portable')\n",
    "games_df['platform'] = games_df['platform'].replace('psv', 'playstation_vita')\n",
    "games_df['platform'] = games_df['platform'].replace('n64', 'nintendo_64')\n",
    "games_df['platform'] = games_df['platform'].replace('2600', 'atari_2600')\n",
    "games_df['platform'] = games_df['platform'].replace('gen', 'sega_genesis')\n",
    "games_df['platform'] = games_df['platform'].replace('sat', 'sega_saturn')\n",
    "games_df['platform'] = games_df['platform'].replace('dc', 'sega_dreamcast')\n",
    "games_df['platform'] = games_df['platform'].replace('scd', 'sega_cd')\n",
    "games_df['platform'] = games_df['platform'].replace('wiiu', 'nintendo_wii_u')\n",
    "games_df['platform'] = games_df['platform'].replace('ws', 'bandai -wonderswan')\n",
    "games_df['platform'] = games_df['platform'].replace('ng', 'snk_neo_geo')\n",
    "games_df['platform'] = games_df['platform'].replace('gg', 'sega_game_gear')\n",
    "games_df['platform'] = games_df['platform'].replace('tg16', 'turbo_graphx_16')\n",
    "games_df['platform'] = games_df['platform'].replace('3do', '3do_interactive_multiplayer')\n",
    "games_df['platform'] = games_df['platform'].replace('pcfx', 'pc_fx')\n",
    "\n",
    "print(games_df['platform'].unique())\n",
    "\n",
    "\n"
   ]
  },
  {
   "cell_type": "code",
   "execution_count": null,
   "metadata": {
    "vscode": {
     "languageId": "ruby"
    }
   },
   "outputs": [],
   "source": []
  }
 ],
 "metadata": {
  "kernelspec": {
   "display_name": "base",
   "language": "python",
   "name": "python3"
  },
  "language_info": {
   "codemirror_mode": {
    "name": "ipython",
    "version": 3
   },
   "file_extension": ".py",
   "mimetype": "text/x-python",
   "name": "python",
   "nbconvert_exporter": "python",
   "pygments_lexer": "ipython3",
   "version": "3.12.2"
  }
 },
 "nbformat": 4,
 "nbformat_minor": 2
}
