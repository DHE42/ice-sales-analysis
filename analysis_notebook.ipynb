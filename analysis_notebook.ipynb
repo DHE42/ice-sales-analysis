{
 "cells": [
  {
   "cell_type": "markdown",
   "metadata": {},
   "source": [
    "### Ice Sales Analysis"
   ]
  },
  {
   "cell_type": "markdown",
   "metadata": {},
   "source": [
    "#### 1. Data Overview"
   ]
  },
  {
   "cell_type": "markdown",
   "metadata": {},
   "source": [
    "##### 1.1 Initialization"
   ]
  },
  {
   "cell_type": "code",
   "execution_count": 111,
   "metadata": {},
   "outputs": [],
   "source": [
    "#Import necessary libraries\n",
    "\n",
    "import pandas as pd\n",
    "import numpy as np\n",
    "import matplotlib.pyplot as plt\n",
    "import seaborn as sns\n",
    "import plotly.express as px"
   ]
  },
  {
   "cell_type": "markdown",
   "metadata": {},
   "source": [
    "##### 1.2 Data Overview"
   ]
  },
  {
   "cell_type": "code",
   "execution_count": 112,
   "metadata": {},
   "outputs": [
    {
     "name": "stdout",
     "output_type": "stream",
     "text": [
      "Data Head\n",
      "                       Name Platform  Year_of_Release         Genre  NA_sales  \\\n",
      "0                Wii Sports      Wii           2006.0        Sports     41.36   \n",
      "1         Super Mario Bros.      NES           1985.0      Platform     29.08   \n",
      "2            Mario Kart Wii      Wii           2008.0        Racing     15.68   \n",
      "3         Wii Sports Resort      Wii           2009.0        Sports     15.61   \n",
      "4  Pokemon Red/Pokemon Blue       GB           1996.0  Role-Playing     11.27   \n",
      "\n",
      "   EU_sales  JP_sales  Other_sales  Critic_Score User_Score Rating  \n",
      "0     28.96      3.77         8.45          76.0          8      E  \n",
      "1      3.58      6.81         0.77           NaN        NaN    NaN  \n",
      "2     12.76      3.79         3.29          82.0        8.3      E  \n",
      "3     10.93      3.28         2.95          80.0          8      E  \n",
      "4      8.89     10.22         1.00           NaN        NaN    NaN  \n",
      "\n"
     ]
    }
   ],
   "source": [
    "# Import the DataFrame\n",
    "\n",
    "url = 'https://raw.githubusercontent.com/DHE42/ice-sales-analysis/refs/heads/main/games.csv'\n",
    "games_df = pd.read_csv(url)\n",
    "\n",
    "# Print Data Overview\n",
    "\n",
    "print(\"Data Head\")\n",
    "print(games_df.head())\n",
    "print()\n"
   ]
  },
  {
   "cell_type": "markdown",
   "metadata": {},
   "source": [
    "The Games DataFrame has 11 columns. These cover the following categories:\n",
    "\n",
    "1) Name\n",
    "2) Gaming Platform\n",
    "3) Release Year\n",
    "4) Genre\n",
    "5) North America Sales\n",
    "6) Europe Sales\n",
    "7) Japan Sales\n",
    "8) Other Sales\n",
    "9) Critic Score\n",
    "10) User Score\n",
    "11) Rating.\n",
    "\n",
    "Let's call info() to get a basic idea of the null/non-null values and data types of the columns."
   ]
  },
  {
   "cell_type": "code",
   "execution_count": 113,
   "metadata": {},
   "outputs": [
    {
     "name": "stdout",
     "output_type": "stream",
     "text": [
      "Data Info\n",
      "<class 'pandas.core.frame.DataFrame'>\n",
      "RangeIndex: 16715 entries, 0 to 16714\n",
      "Data columns (total 11 columns):\n",
      " #   Column           Non-Null Count  Dtype  \n",
      "---  ------           --------------  -----  \n",
      " 0   Name             16713 non-null  object \n",
      " 1   Platform         16715 non-null  object \n",
      " 2   Year_of_Release  16446 non-null  float64\n",
      " 3   Genre            16713 non-null  object \n",
      " 4   NA_sales         16715 non-null  float64\n",
      " 5   EU_sales         16715 non-null  float64\n",
      " 6   JP_sales         16715 non-null  float64\n",
      " 7   Other_sales      16715 non-null  float64\n",
      " 8   Critic_Score     8137 non-null   float64\n",
      " 9   User_Score       10014 non-null  object \n",
      " 10  Rating           9949 non-null   object \n",
      "dtypes: float64(6), object(5)\n",
      "memory usage: 1.4+ MB\n",
      "None\n",
      "\n",
      "Number of null values in each column:\n",
      "Name                  2\n",
      "Platform              0\n",
      "Year_of_Release     269\n",
      "Genre                 2\n",
      "NA_sales              0\n",
      "EU_sales              0\n",
      "JP_sales              0\n",
      "Other_sales           0\n",
      "Critic_Score       8578\n",
      "User_Score         6701\n",
      "Rating             6766\n",
      "dtype: int64\n"
     ]
    }
   ],
   "source": [
    "print(\"Data Info\")\n",
    "print(games_df.info())\n",
    "print()\n",
    "print(\"Number of null values in each column:\")\n",
    "print(games_df.isnull().sum())"
   ]
  },
  {
   "cell_type": "markdown",
   "metadata": {},
   "source": [
    "There are significant null values in Critic_Score, User_Score, and Rating. Rating's null values should be listed as unknown, since the values are categorical and there is no reliable way to easily estimate what the rating for each game would be. Critic_Score and User_Score should have null values replaced with the median of the non-null values in the column to restore the data as accurately as possible with as little skew, since there is moderate variability due to varying opinions on motion pictures. Year_of_Release has low variability, and therefore I will repalce the null values with the mean of the non-null values, since the mean of the column is likely to show the most reasonable year for the games with null values to have been released. \n",
    "\n",
    "The data types for the values in the set are not all suitable for the types of data they are holding, and will be converted in data cleaning."
   ]
  },
  {
   "cell_type": "code",
   "execution_count": 114,
   "metadata": {},
   "outputs": [
    {
     "name": "stdout",
     "output_type": "stream",
     "text": [
      "Data Description\n",
      "       Year_of_Release      NA_sales      EU_sales      JP_sales  \\\n",
      "count     16446.000000  16715.000000  16715.000000  16715.000000   \n",
      "mean       2006.484616      0.263377      0.145060      0.077617   \n",
      "std           5.877050      0.813604      0.503339      0.308853   \n",
      "min        1980.000000      0.000000      0.000000      0.000000   \n",
      "25%        2003.000000      0.000000      0.000000      0.000000   \n",
      "50%        2007.000000      0.080000      0.020000      0.000000   \n",
      "75%        2010.000000      0.240000      0.110000      0.040000   \n",
      "max        2016.000000     41.360000     28.960000     10.220000   \n",
      "\n",
      "        Other_sales  Critic_Score  \n",
      "count  16715.000000   8137.000000  \n",
      "mean       0.047342     68.967679  \n",
      "std        0.186731     13.938165  \n",
      "min        0.000000     13.000000  \n",
      "25%        0.000000     60.000000  \n",
      "50%        0.010000     71.000000  \n",
      "75%        0.030000     79.000000  \n",
      "max       10.570000     98.000000  \n",
      "\n"
     ]
    }
   ],
   "source": [
    "print(\"Data Description\")\n",
    "print(games_df.describe())\n",
    "print()\n"
   ]
  },
  {
   "cell_type": "markdown",
   "metadata": {},
   "source": [
    "#### 2. Cleaning and Restoring Data"
   ]
  },
  {
   "cell_type": "markdown",
   "metadata": {},
   "source": [
    "##### 2.1 Handling Null Values and Standardizing Data"
   ]
  },
  {
   "cell_type": "markdown",
   "metadata": {
    "vscode": {
     "languageId": "markdown"
    }
   },
   "source": [
    "Name, Platform, Genre, User_Score, and Rating are all stored as an object. These should all be stored in snake case as string data types, and all values should be lower case, as well as having their leading and trailing spaces/punctuation dropped. I will also drop irregular hyphens in Genre column to standardize for accessibility. Critic_Score, User_Score, and Year_of_Release should also be stored as int64 since there's no need for decimal precision. The sales columns will remain float64, since decimal precision is needed. "
   ]
  },
  {
   "cell_type": "code",
   "execution_count": 115,
   "metadata": {},
   "outputs": [
    {
     "name": "stdout",
     "output_type": "stream",
     "text": [
      "Data Info After Cleaning:\n",
      "<class 'pandas.core.frame.DataFrame'>\n",
      "RangeIndex: 16715 entries, 0 to 16714\n",
      "Data columns (total 11 columns):\n",
      " #   Column           Non-Null Count  Dtype  \n",
      "---  ------           --------------  -----  \n",
      " 0   name             16715 non-null  string \n",
      " 1   platform         16715 non-null  string \n",
      " 2   year_of_release  16715 non-null  int64  \n",
      " 3   genre            16715 non-null  string \n",
      " 4   na_sales         16715 non-null  float64\n",
      " 5   eu_sales         16715 non-null  float64\n",
      " 6   jp_sales         16715 non-null  float64\n",
      " 7   other_sales      16715 non-null  float64\n",
      " 8   critic_score     16715 non-null  int64  \n",
      " 9   user_score       16715 non-null  int64  \n",
      " 10  rating           16715 non-null  string \n",
      "dtypes: float64(4), int64(3), string(4)\n",
      "memory usage: 1.4 MB\n",
      "None\n",
      "\n",
      "DF Head After Cleaning:\n",
      "                       name platform  year_of_release        genre  na_sales  \\\n",
      "0                wii_sports      wii             2006       sports     41.36   \n",
      "1          super_mario_bros      nes             1985     platform     29.08   \n",
      "2            mario_kart_wii      wii             2008       racing     15.68   \n",
      "3         wii_sports_resort      wii             2009       sports     15.61   \n",
      "4  pokemon_red/pokemon_blue       gb             1996  roleplaying     11.27   \n",
      "\n",
      "   eu_sales  jp_sales  other_sales  critic_score  user_score   rating  \n",
      "0     28.96      3.77         8.45            76           8        e  \n",
      "1      3.58      6.81         0.77            71           7  unknown  \n",
      "2     12.76      3.79         3.29            82           8        e  \n",
      "3     10.93      3.28         2.95            80           8        e  \n",
      "4      8.89     10.22         1.00            71           7  unknown  \n",
      "\n"
     ]
    }
   ],
   "source": [
    "\n",
    "# Step 1: Cleaning Cateogorical Columns\n",
    "\n",
    "# Convert column names to lower case, which ensures consistency and makes it easier to reference columns in the DataFrame.\n",
    "games_df.columns = games_df.columns.str.lower()\n",
    "# Convert all string values to lower case, strip leading/trailing spaces, and replace spaces with underscores\n",
    "string_columns = games_df.select_dtypes(include=['object']).columns\n",
    "for col in string_columns:\n",
    "    games_df[col] = games_df[col].str.lower().str.strip().str.replace(' ', '_')\n",
    "# Remove leading and trailing periods, question marks, and exclamation marks\n",
    "for col in string_columns:\n",
    "    games_df[col] = games_df[col].str.strip('.!?-')\n",
    "for col in string_columns:\n",
    "    games_df[col] = games_df[col].str.replace('-', '')\n",
    "\n",
    "# Step 2: Handle missing categorical values\n",
    "\n",
    "# Handling Categorical Columns\n",
    "games_df['platform'] = games_df['platform'].fillna('unknown')\n",
    "games_df['genre'] = games_df['genre'].fillna('unknown')\n",
    "games_df['rating'] = games_df['rating'].fillna('unknown')\n",
    "games_df['name'] = games_df['name'].fillna('unknown')\n",
    "\n",
    "# Cleaning and Restoring Numerical Columns\n",
    "# Replace NaN values in the year_of_release column with the mean of the column\n",
    "mean_year = games_df['year_of_release'].mean(skipna=True)\n",
    "games_df['year_of_release'] = games_df['year_of_release'].fillna(mean_year)\n",
    "# Replace NaN values in the na_sales column with the median of the column\n",
    "median_na_sales = games_df['na_sales'].median(skipna=True)\n",
    "games_df['na_sales'] = games_df['na_sales'].fillna(median_na_sales)\n",
    "# Replace NaN values in eu_sales column with the median of the column\n",
    "median_eu_sales = games_df['eu_sales'].median(skipna=True)\n",
    "games_df['eu_sales'] = games_df['eu_sales'].fillna(median_eu_sales)\n",
    "# Replace NaN values in jp_sales column with the median of the column \n",
    "median_jp_sales = games_df['jp_sales'].median(skipna=True)\n",
    "games_df['jp_sales'] = games_df['jp_sales'].fillna(median_jp_sales)\n",
    "# Replace NaN values in other_sales column with the median of the column\n",
    "median_other_sales = games_df['other_sales'].median(skipna=True)\n",
    "games_df['other_sales'] = games_df['other_sales'].fillna(median_other_sales)\n",
    "# Convert user_score to float to handle NaN values for later conversion to int64, as int64 has trouble handling NaN values\n",
    "games_df['user_score'] = pd.to_numeric(games_df['user_score'], errors='coerce')\n",
    "# Replace NaN values in the user_score column with the mean of the column\n",
    "mean_user_score = games_df['user_score'].mean(skipna=True)\n",
    "games_df['user_score'] = games_df['user_score'].fillna(mean_user_score)\n",
    "# Replace NaN values in the critic_score column with median of the column\n",
    "median_critic_score = games_df['critic_score'].median(skipna=True)\n",
    "games_df['critic_score'] = pd.to_numeric(games_df['critic_score'], errors='coerce')\n",
    "games_df['critic_score'] = games_df['critic_score'].fillna(median_critic_score)\n",
    "\n",
    "# Step 3: Data Type Conversion\n",
    "\n",
    "# Convert categorical columns to string.\n",
    "# These columns are currently stored as object dtype, which is a generic type in pandas.\n",
    "# Converting them to string dtype ensures consistency and allows for string-specific operations.\n",
    "games_df['name'] = games_df['name'].astype('string')\n",
    "games_df['platform'] = games_df['platform'].astype('string')\n",
    "games_df['genre'] = games_df['genre'].astype('string')\n",
    "games_df['rating'] = games_df['rating'].astype('string')\n",
    "\n",
    "\n",
    "# Step 4: Convert applicable numerical columns to int64, which is appropriate for mathematical operations and analysis.\n",
    "# This is the most space efficient manner, since these columns do not require decimal precision.\n",
    "# Convert user_score to int64\n",
    "games_df['user_score'] = games_df['user_score'].astype('int64')\n",
    "# Convert critic_score to int64\n",
    "games_df['critic_score'] = games_df['critic_score'].astype('int64')\n",
    "# Convert year_of_release to int64\n",
    "games_df['year_of_release'] = games_df['year_of_release'].astype('int64')\n",
    "\n",
    "print(\"Data Info After Cleaning:\")\n",
    "print(games_df.info())\n",
    "print()\n",
    "print(\"DF Head After Cleaning:\")\n",
    "print(games_df.head())\n",
    "print()"
   ]
  },
  {
   "cell_type": "markdown",
   "metadata": {},
   "source": [
    "##### 2.2 Editing Specialized Jargon"
   ]
  },
  {
   "cell_type": "markdown",
   "metadata": {},
   "source": [
    "There are no null values left in the DataFrame, but it looks like the platform column has opaque specialized jargon. I will replace this with plain speech in snake case to make it easier to use the DataFrame. "
   ]
  },
  {
   "cell_type": "code",
   "execution_count": 116,
   "metadata": {
    "vscode": {
     "languageId": "ruby"
    }
   },
   "outputs": [
    {
     "name": "stdout",
     "output_type": "stream",
     "text": [
      "Current Head of Data:\n",
      "                       name                       platform  year_of_release  \\\n",
      "0                wii_sports                   nintendo_wii             2006   \n",
      "1          super_mario_bros  nintendo_entertainment_system             1985   \n",
      "2            mario_kart_wii                   nintendo_wii             2008   \n",
      "3         wii_sports_resort                   nintendo_wii             2009   \n",
      "4  pokemon_red/pokemon_blue                       game_boy             1996   \n",
      "\n",
      "         genre  na_sales  eu_sales  jp_sales  other_sales  critic_score  \\\n",
      "0       sports     41.36     28.96      3.77         8.45            76   \n",
      "1     platform     29.08      3.58      6.81         0.77            71   \n",
      "2       racing     15.68     12.76      3.79         3.29            82   \n",
      "3       sports     15.61     10.93      3.28         2.95            80   \n",
      "4  roleplaying     11.27      8.89     10.22         1.00            71   \n",
      "\n",
      "   user_score   rating  \n",
      "0           8        e  \n",
      "1           7  unknown  \n",
      "2           8        e  \n",
      "3           8        e  \n",
      "4           7  unknown  \n"
     ]
    }
   ],
   "source": [
    "# Replace industry jargon with descriptive values in platform column\n",
    "games_df['platform'] = games_df['platform'].replace('wii', 'nintendo_wii')\n",
    "games_df['platform'] = games_df['platform'].replace('nes', 'nintendo_entertainment_system')\n",
    "games_df['platform'] = games_df['platform'].replace('Nintendo Entertainment System', 'nintendo_entertainment_system')\n",
    "games_df['platform'] = games_df['platform'].replace('snes', 'super_nintendo_entertainment_system')\n",
    "games_df['platform'] = games_df['platform'].replace('gb', 'game_boy')\n",
    "games_df['platform'] = games_df['platform'].replace('gba', 'game_boy_advance')\n",
    "games_df['platform'] = games_df['platform'].replace('ds', 'nintendo_ds')\n",
    "games_df['platform'] = games_df['platform'].replace('3ds', 'nintendo_3ds')\n",
    "games_df['platform'] = games_df['platform'].replace('xb', 'xbox')\n",
    "games_df['platform'] = games_df['platform'].replace('xone', 'xbox_one')\n",
    "games_df['platform'] = games_df['platform'].replace('x360', 'xbox_360')\n",
    "games_df['platform'] = games_df['platform'].replace('ps', 'playstation')\n",
    "games_df['platform'] = games_df['platform'].replace('ps2', 'playstation_2')\n",
    "games_df['platform'] = games_df['platform'].replace('ps3', 'playstation_3')\n",
    "games_df['platform'] = games_df['platform'].replace('ps4', 'playstation_4')\n",
    "games_df['platform'] = games_df['platform'].replace('psp', 'playstation_portable')\n",
    "games_df['platform'] = games_df['platform'].replace('psv', 'playstation_vita')\n",
    "games_df['platform'] = games_df['platform'].replace('n64', 'nintendo_64')\n",
    "games_df['platform'] = games_df['platform'].replace('2600', 'atari_2600')\n",
    "games_df['platform'] = games_df['platform'].replace('gen', 'sega_genesis')\n",
    "games_df['platform'] = games_df['platform'].replace('sat', 'sega_saturn')\n",
    "games_df['platform'] = games_df['platform'].replace('dc', 'sega_dreamcast')\n",
    "games_df['platform'] = games_df['platform'].replace('scd', 'sega_cd')\n",
    "games_df['platform'] = games_df['platform'].replace('wiiu', 'nintendo_wii_u')\n",
    "games_df['platform'] = games_df['platform'].replace('ws', 'bandai -wonderswan')\n",
    "games_df['platform'] = games_df['platform'].replace('ng', 'snk_neo_geo')\n",
    "games_df['platform'] = games_df['platform'].replace('gg', 'sega_game_gear')\n",
    "games_df['platform'] = games_df['platform'].replace('tg16', 'turbo_graphx_16')\n",
    "games_df['platform'] = games_df['platform'].replace('3do', '3do_interactive_multiplayer')\n",
    "games_df['platform'] = games_df['platform'].replace('pcfx', 'pc_fx')\n",
    "print(\"Current Head of Data:\")\n",
    "print(games_df.head())\n",
    "\n"
   ]
  },
  {
   "cell_type": "markdown",
   "metadata": {},
   "source": [
    "All categorical values are now in snake case, lower case, and have no extraneous spaces or punctuation. Numerical values have been stored according to necessity for decimal precision. The data has been restored through filling null values appropriately based on reasonable assumptions. Opaque specialized jargon has been replaced with plain speech for ease in DataFrame navigation. "
   ]
  },
  {
   "cell_type": "markdown",
   "metadata": {},
   "source": [
    "##### 2.3 Added Feature"
   ]
  },
  {
   "cell_type": "markdown",
   "metadata": {},
   "source": [
    "There should be an additional column totalling the sales for games in all regions to see gross sales through all markets."
   ]
  },
  {
   "cell_type": "code",
   "execution_count": 117,
   "metadata": {},
   "outputs": [
    {
     "name": "stdout",
     "output_type": "stream",
     "text": [
      "DataFrame with Total Sales:\n",
      "                       name                       platform  year_of_release  \\\n",
      "0                wii_sports                   nintendo_wii             2006   \n",
      "1          super_mario_bros  nintendo_entertainment_system             1985   \n",
      "2            mario_kart_wii                   nintendo_wii             2008   \n",
      "3         wii_sports_resort                   nintendo_wii             2009   \n",
      "4  pokemon_red/pokemon_blue                       game_boy             1996   \n",
      "\n",
      "         genre  na_sales  eu_sales  jp_sales  other_sales  total_sales  \\\n",
      "0       sports     41.36     28.96      3.77         8.45        82.54   \n",
      "1     platform     29.08      3.58      6.81         0.77        40.24   \n",
      "2       racing     15.68     12.76      3.79         3.29        35.52   \n",
      "3       sports     15.61     10.93      3.28         2.95        32.77   \n",
      "4  roleplaying     11.27      8.89     10.22         1.00        31.38   \n",
      "\n",
      "   critic_score  user_score   rating  \n",
      "0            76           8        e  \n",
      "1            71           7  unknown  \n",
      "2            82           8        e  \n",
      "3            80           8        e  \n",
      "4            71           7  unknown  \n",
      "\n"
     ]
    }
   ],
   "source": [
    "# Calculate total sales for each game\n",
    "games_df['total_sales'] = games_df['na_sales'] + games_df['eu_sales'] + games_df['jp_sales'] + games_df['other_sales']\n",
    "\n",
    "# Reorder columns to place total_sales between other_sales and critic_score\n",
    "columns = list(games_df.columns)\n",
    "columns.insert(columns.index('critic_score'), columns.pop(columns.index('total_sales')))\n",
    "games_df = games_df[columns]\n",
    "\n",
    "print(\"DataFrame with Total Sales:\")\n",
    "print(games_df.head())\n",
    "print()"
   ]
  },
  {
   "cell_type": "markdown",
   "metadata": {},
   "source": [
    "#### 3. Analysis"
   ]
  },
  {
   "cell_type": "code",
   "execution_count": 120,
   "metadata": {},
   "outputs": [
    {
     "data": {
      "image/png": "[encoded data removed]",
      "text/plain": [
       "<Figure size 1200x600 with 1 Axes>"
      ]
     },
     "metadata": {},
     "output_type": "display_data"
    },
    {
     "name": "stdout",
     "output_type": "stream",
     "text": [
      "\n",
      "year_of_release\n",
      "2008    1427\n",
      "2009    1426\n",
      "2006    1275\n",
      "2010    1255\n",
      "2007    1197\n",
      "2011    1136\n",
      "2005     939\n",
      "2002     829\n",
      "2003     775\n",
      "2004     762\n",
      "2012     653\n",
      "2015     606\n",
      "2014     581\n",
      "2013     544\n",
      "2016     502\n",
      "2001     482\n",
      "1998     379\n",
      "2000     350\n",
      "1999     338\n",
      "1997     289\n",
      "1996     263\n",
      "1995     219\n",
      "1994     121\n",
      "1993      62\n",
      "1981      46\n",
      "1992      43\n",
      "1991      41\n",
      "1982      36\n",
      "1986      21\n",
      "1989      17\n",
      "1983      17\n",
      "1990      16\n",
      "1987      16\n",
      "1988      15\n",
      "1985      14\n",
      "1984      14\n",
      "1980       9\n",
      "Name: count, dtype: int64\n"
     ]
    }
   ],
   "source": [
    "# Create a bar chart for year_of_release counts\n",
    "plt.figure(figsize=(12, 6))\n",
    "year_counts.sort_index().plot(kind='bar', color='skyblue', edgecolor='black')\n",
    "plt.title('Number of Games Released Per Year', fontsize=16)\n",
    "plt.xlabel('Year of Release', fontsize=12)\n",
    "plt.ylabel('Number of Games', fontsize=12)\n",
    "plt.xticks(rotation=45)\n",
    "plt.grid(axis='y', linestyle='--', alpha=0.7)\n",
    "plt.tight_layout()\n",
    "plt.show()\n",
    "print()\n",
    "\n",
    "# Count occurrences of each year_of_release value\n",
    "year_counts = games_df['year_of_release'].value_counts()\n",
    "\n",
    "# Display the counts\n",
    "print(year_counts)"
   ]
  },
  {
   "cell_type": "code",
   "execution_count": null,
   "metadata": {},
   "outputs": [],
   "source": []
  }
 ],
 "metadata": {
  "kernelspec": {
   "display_name": "base",
   "language": "python",
   "name": "python3"
  },
  "language_info": {
   "codemirror_mode": {
    "name": "ipython",
    "version": 3
   },
   "file_extension": ".py",
   "mimetype": "text/x-python",
   "name": "python",
   "nbconvert_exporter": "python",
   "pygments_lexer": "ipython3",
   "version": "3.12.2"
  }
 },
 "nbformat": 4,
 "nbformat_minor": 2
}
